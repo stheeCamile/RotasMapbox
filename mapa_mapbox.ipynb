{
 "cells": [
  {
   "cell_type": "code",
   "execution_count": 27,
   "metadata": {},
   "outputs": [
    {
     "name": "stderr",
     "output_type": "stream",
     "text": [
      "C:\\Users\\Dantas\\AppData\\Local\\Temp\\ipykernel_18332\\542389796.py:16: UserWarning:\n",
      "\n",
      "Geometry is in a geographic CRS. Results from 'centroid' are likely incorrect. Use 'GeoSeries.to_crs()' to re-project geometries to a projected CRS before this operation.\n",
      "\n",
      "\n"
     ]
    },
    {
     "data": {
      "application/vnd.plotly.v1+json": {
       "config": {
        "plotlyServerURL": "https://plot.ly"
       },
       "data": [
        {
         "lat": [
          -25.53709423855855
         ],
         "lon": [
          -49.20225386423999
         ],
         "marker": {
          "color": "rgb(255, 0, 0)",
          "size": 10
         },
         "mode": "markers",
         "text": [
          "Centro"
         ],
         "type": "scattermapbox"
        },
        {
         "fill": "toself",
         "fillcolor": "rgba(0, 128, 0, 0.2)",
         "lat": [
          -25.5305678,
          -25.530743,
          -25.530885,
          -25.5309777,
          -25.5310544,
          -25.5312629,
          -25.5316147,
          -25.5322033,
          -25.5323643,
          -25.533039,
          -25.5331621,
          -25.5338913,
          -25.5343426,
          -25.5345518,
          -25.5346455,
          -25.5348302,
          -25.5351842,
          -25.5352624,
          -25.535315,
          -25.5359225,
          -25.5364186,
          -25.5365661,
          -25.5372128,
          -25.5375036,
          -25.5375993,
          -25.5377186,
          -25.5377934,
          -25.5384174,
          -25.5387782,
          -25.539059,
          -25.5392174,
          -25.5394842,
          -25.5396893,
          -25.5397729,
          -25.5408362,
          -25.5408725,
          -25.5415118,
          -25.5415521,
          -25.5419271,
          -25.541956,
          -25.5419813,
          -25.5422592,
          -25.542411,
          -25.5427622,
          -25.5427913,
          -25.5428187,
          -25.5432525,
          -25.5432852,
          -25.5433136,
          -25.5434986,
          -25.5435805,
          -25.5438054,
          -25.5438441,
          -25.5438618,
          -25.5438792,
          -25.5439144,
          -25.5440985,
          -25.5444339,
          -25.5447708,
          -25.5447984,
          -25.5448377,
          -25.5453272,
          -25.545417,
          -25.5454768,
          -25.5453963,
          -25.5451946,
          -25.5448178,
          -25.5447585,
          -25.5444332,
          -25.5443196,
          -25.5442373,
          -25.544139,
          -25.5440355,
          -25.5439198,
          -25.5438903,
          -25.5438178,
          -25.5437471,
          -25.5428576,
          -25.5420354,
          -25.5417657,
          -25.5412536,
          -25.5411671,
          -25.5412022,
          -25.5414391,
          -25.5416299,
          -25.5416524,
          -25.5417129,
          -25.5417423,
          -25.5417701,
          -25.5421955,
          -25.5424874,
          -25.5426437,
          -25.5426845,
          -25.5427158,
          -25.5430597,
          -25.543105,
          -25.5431266,
          -25.5435258,
          -25.5439299,
          -25.5438096,
          -25.5437951,
          -25.5430124,
          -25.5429692,
          -25.5429241,
          -25.5431028,
          -25.5431201,
          -25.5433018,
          -25.5433944,
          -25.5349598,
          -25.5345861,
          -25.534454,
          -25.5343245,
          -25.534126,
          -25.5340002,
          -25.5338792,
          -25.5337424,
          -25.5336347,
          -25.533544,
          -25.5333939,
          -25.5333346,
          -25.533262,
          -25.53317,
          -25.5330402,
          -25.5328664,
          -25.533716,
          -25.5335872,
          -25.5335087,
          -25.5334106,
          -25.533329,
          -25.5332615,
          -25.5332024,
          -25.5331261,
          -25.5330654,
          -25.532879,
          -25.5328299,
          -25.5327172,
          -25.5326794,
          -25.532647,
          -25.5326288,
          -25.5323231,
          -25.5323036,
          -25.5308844,
          -25.5298128,
          -25.5297202,
          -25.5296702,
          -25.5296314,
          -25.5295879,
          -25.529554,
          -25.5295274,
          -25.5295152,
          -25.5295152,
          -25.5295249,
          -25.5295419,
          -25.5295709,
          -25.5296048,
          -25.5296193,
          -25.5296363,
          -25.5296551,
          -25.5296979,
          -25.5297666,
          -25.5298694,
          -25.5299075,
          -25.5299545,
          -25.5302147,
          -25.5302275,
          -25.5304233,
          -25.53044,
          -25.5304635,
          -25.5307446,
          -25.5307736,
          -25.5307949,
          -25.530807,
          -25.5308089,
          -25.5307997,
          -25.53078,
          -25.5307548,
          -25.5307252,
          -25.5306828,
          -25.5306295,
          -25.5305678
         ],
         "line": {
          "color": "rgb(0, 128, 0)",
          "width": 2
         },
         "lon": [
          -49.2146451,
          -49.2144163,
          -49.2140715,
          -49.2139107,
          -49.2137896,
          -49.213519,
          -49.2130606,
          -49.2123421,
          -49.2121352,
          -49.211268,
          -49.211109,
          -49.2101718,
          -49.2095924,
          -49.2093236,
          -49.2093696,
          -49.2094603,
          -49.2096341,
          -49.2096725,
          -49.2096983,
          -49.2099965,
          -49.2102401,
          -49.2103125,
          -49.2106299,
          -49.2107726,
          -49.2108154,
          -49.210865,
          -49.2108954,
          -49.2111474,
          -49.2113285,
          -49.2114667,
          -49.2115448,
          -49.2116761,
          -49.2117771,
          -49.2118173,
          -49.2123294,
          -49.2122363,
          -49.2105952,
          -49.2104874,
          -49.2095291,
          -49.2094552,
          -49.2093903,
          -49.2086768,
          -49.208287,
          -49.2073855,
          -49.2073109,
          -49.2072407,
          -49.2061269,
          -49.2060429,
          -49.2059699,
          -49.2054951,
          -49.205285,
          -49.2047076,
          -49.2046083,
          -49.2045628,
          -49.2045181,
          -49.2044277,
          -49.2039552,
          -49.2030941,
          -49.2022294,
          -49.2021586,
          -49.202077,
          -49.2010853,
          -49.2009034,
          -49.2007823,
          -49.2007727,
          -49.200744,
          -49.2006904,
          -49.200682,
          -49.2006307,
          -49.2006073,
          -49.2005849,
          -49.200553,
          -49.2005152,
          -49.2004678,
          -49.2004523,
          -49.200414,
          -49.200362,
          -49.199708,
          -49.1990843,
          -49.1988778,
          -49.1984896,
          -49.1984217,
          -49.1983301,
          -49.1977125,
          -49.1972148,
          -49.1971563,
          -49.1969984,
          -49.1969217,
          -49.1968491,
          -49.1957399,
          -49.1949788,
          -49.1945712,
          -49.1944646,
          -49.194383,
          -49.1934863,
          -49.193368,
          -49.1933116,
          -49.1922707,
          -49.1912137,
          -49.1912547,
          -49.1912597,
          -49.1915271,
          -49.1915419,
          -49.1913773,
          -49.1913168,
          -49.1912692,
          -49.1908333,
          -49.1904792,
          -49.1933455,
          -49.193466,
          -49.1935228,
          -49.1935885,
          -49.1936984,
          -49.1937816,
          -49.1938755,
          -49.1940123,
          -49.194145,
          -49.1942791,
          -49.1945125,
          -49.194593,
          -49.1946667,
          -49.1947365,
          -49.1948151,
          -49.1948938,
          -49.194682,
          -49.1947428,
          -49.1947858,
          -49.1948569,
          -49.1949426,
          -49.1950379,
          -49.1951421,
          -49.1953246,
          -49.1954746,
          -49.1959356,
          -49.1960569,
          -49.1963354,
          -49.1964289,
          -49.1964134,
          -49.1964047,
          -49.1970945,
          -49.1971386,
          -49.2003406,
          -49.2027632,
          -49.2029696,
          -49.2031016,
          -49.203225,
          -49.2033832,
          -49.2035629,
          -49.2037802,
          -49.2039706,
          -49.2040726,
          -49.2042147,
          -49.2043515,
          -49.2045071,
          -49.2047109,
          -49.2048558,
          -49.2051133,
          -49.2053348,
          -49.205689,
          -49.2061383,
          -49.2068096,
          -49.207058,
          -49.20737,
          -49.20899,
          -49.2090794,
          -49.2105313,
          -49.2106466,
          -49.2108003,
          -49.2126814,
          -49.2128922,
          -49.2131046,
          -49.2133035,
          -49.2134559,
          -49.2136069,
          -49.2137986,
          -49.2139784,
          -49.2141326,
          -49.2143099,
          -49.2144822,
          -49.2146451
         ],
         "mode": "lines",
         "type": "scattermapbox"
        }
       ],
       "layout": {
        "autosize": true,
        "mapbox": {
         "accesstoken": "pk.eyJ1Ijoic3RoZWNhbWlsZSIsImEiOiJjbGs5enF3eHgwMjIxM2xuYXhmMWF2M3J3In0.GsOKW7BGbB3isNIHZx8pNg",
         "center": {
          "lat": -25.53709423855855,
          "lon": -49.20225386423999
         },
         "style": "mapbox://styles/mapbox/streets-v11",
         "zoom": 13
        },
        "margin": {
         "b": 0,
         "l": 0,
         "r": 0,
         "t": 0
        },
        "template": {
         "data": {
          "bar": [
           {
            "error_x": {
             "color": "#2a3f5f"
            },
            "error_y": {
             "color": "#2a3f5f"
            },
            "marker": {
             "line": {
              "color": "#E5ECF6",
              "width": 0.5
             },
             "pattern": {
              "fillmode": "overlay",
              "size": 10,
              "solidity": 0.2
             }
            },
            "type": "bar"
           }
          ],
          "barpolar": [
           {
            "marker": {
             "line": {
              "color": "#E5ECF6",
              "width": 0.5
             },
             "pattern": {
              "fillmode": "overlay",
              "size": 10,
              "solidity": 0.2
             }
            },
            "type": "barpolar"
           }
          ],
          "carpet": [
           {
            "aaxis": {
             "endlinecolor": "#2a3f5f",
             "gridcolor": "white",
             "linecolor": "white",
             "minorgridcolor": "white",
             "startlinecolor": "#2a3f5f"
            },
            "baxis": {
             "endlinecolor": "#2a3f5f",
             "gridcolor": "white",
             "linecolor": "white",
             "minorgridcolor": "white",
             "startlinecolor": "#2a3f5f"
            },
            "type": "carpet"
           }
          ],
          "choropleth": [
           {
            "colorbar": {
             "outlinewidth": 0,
             "ticks": ""
            },
            "type": "choropleth"
           }
          ],
          "contour": [
           {
            "colorbar": {
             "outlinewidth": 0,
             "ticks": ""
            },
            "colorscale": [
             [
              0,
              "#0d0887"
             ],
             [
              0.1111111111111111,
              "#46039f"
             ],
             [
              0.2222222222222222,
              "#7201a8"
             ],
             [
              0.3333333333333333,
              "#9c179e"
             ],
             [
              0.4444444444444444,
              "#bd3786"
             ],
             [
              0.5555555555555556,
              "#d8576b"
             ],
             [
              0.6666666666666666,
              "#ed7953"
             ],
             [
              0.7777777777777778,
              "#fb9f3a"
             ],
             [
              0.8888888888888888,
              "#fdca26"
             ],
             [
              1,
              "#f0f921"
             ]
            ],
            "type": "contour"
           }
          ],
          "contourcarpet": [
           {
            "colorbar": {
             "outlinewidth": 0,
             "ticks": ""
            },
            "type": "contourcarpet"
           }
          ],
          "heatmap": [
           {
            "colorbar": {
             "outlinewidth": 0,
             "ticks": ""
            },
            "colorscale": [
             [
              0,
              "#0d0887"
             ],
             [
              0.1111111111111111,
              "#46039f"
             ],
             [
              0.2222222222222222,
              "#7201a8"
             ],
             [
              0.3333333333333333,
              "#9c179e"
             ],
             [
              0.4444444444444444,
              "#bd3786"
             ],
             [
              0.5555555555555556,
              "#d8576b"
             ],
             [
              0.6666666666666666,
              "#ed7953"
             ],
             [
              0.7777777777777778,
              "#fb9f3a"
             ],
             [
              0.8888888888888888,
              "#fdca26"
             ],
             [
              1,
              "#f0f921"
             ]
            ],
            "type": "heatmap"
           }
          ],
          "heatmapgl": [
           {
            "colorbar": {
             "outlinewidth": 0,
             "ticks": ""
            },
            "colorscale": [
             [
              0,
              "#0d0887"
             ],
             [
              0.1111111111111111,
              "#46039f"
             ],
             [
              0.2222222222222222,
              "#7201a8"
             ],
             [
              0.3333333333333333,
              "#9c179e"
             ],
             [
              0.4444444444444444,
              "#bd3786"
             ],
             [
              0.5555555555555556,
              "#d8576b"
             ],
             [
              0.6666666666666666,
              "#ed7953"
             ],
             [
              0.7777777777777778,
              "#fb9f3a"
             ],
             [
              0.8888888888888888,
              "#fdca26"
             ],
             [
              1,
              "#f0f921"
             ]
            ],
            "type": "heatmapgl"
           }
          ],
          "histogram": [
           {
            "marker": {
             "pattern": {
              "fillmode": "overlay",
              "size": 10,
              "solidity": 0.2
             }
            },
            "type": "histogram"
           }
          ],
          "histogram2d": [
           {
            "colorbar": {
             "outlinewidth": 0,
             "ticks": ""
            },
            "colorscale": [
             [
              0,
              "#0d0887"
             ],
             [
              0.1111111111111111,
              "#46039f"
             ],
             [
              0.2222222222222222,
              "#7201a8"
             ],
             [
              0.3333333333333333,
              "#9c179e"
             ],
             [
              0.4444444444444444,
              "#bd3786"
             ],
             [
              0.5555555555555556,
              "#d8576b"
             ],
             [
              0.6666666666666666,
              "#ed7953"
             ],
             [
              0.7777777777777778,
              "#fb9f3a"
             ],
             [
              0.8888888888888888,
              "#fdca26"
             ],
             [
              1,
              "#f0f921"
             ]
            ],
            "type": "histogram2d"
           }
          ],
          "histogram2dcontour": [
           {
            "colorbar": {
             "outlinewidth": 0,
             "ticks": ""
            },
            "colorscale": [
             [
              0,
              "#0d0887"
             ],
             [
              0.1111111111111111,
              "#46039f"
             ],
             [
              0.2222222222222222,
              "#7201a8"
             ],
             [
              0.3333333333333333,
              "#9c179e"
             ],
             [
              0.4444444444444444,
              "#bd3786"
             ],
             [
              0.5555555555555556,
              "#d8576b"
             ],
             [
              0.6666666666666666,
              "#ed7953"
             ],
             [
              0.7777777777777778,
              "#fb9f3a"
             ],
             [
              0.8888888888888888,
              "#fdca26"
             ],
             [
              1,
              "#f0f921"
             ]
            ],
            "type": "histogram2dcontour"
           }
          ],
          "mesh3d": [
           {
            "colorbar": {
             "outlinewidth": 0,
             "ticks": ""
            },
            "type": "mesh3d"
           }
          ],
          "parcoords": [
           {
            "line": {
             "colorbar": {
              "outlinewidth": 0,
              "ticks": ""
             }
            },
            "type": "parcoords"
           }
          ],
          "pie": [
           {
            "automargin": true,
            "type": "pie"
           }
          ],
          "scatter": [
           {
            "fillpattern": {
             "fillmode": "overlay",
             "size": 10,
             "solidity": 0.2
            },
            "type": "scatter"
           }
          ],
          "scatter3d": [
           {
            "line": {
             "colorbar": {
              "outlinewidth": 0,
              "ticks": ""
             }
            },
            "marker": {
             "colorbar": {
              "outlinewidth": 0,
              "ticks": ""
             }
            },
            "type": "scatter3d"
           }
          ],
          "scattercarpet": [
           {
            "marker": {
             "colorbar": {
              "outlinewidth": 0,
              "ticks": ""
             }
            },
            "type": "scattercarpet"
           }
          ],
          "scattergeo": [
           {
            "marker": {
             "colorbar": {
              "outlinewidth": 0,
              "ticks": ""
             }
            },
            "type": "scattergeo"
           }
          ],
          "scattergl": [
           {
            "marker": {
             "colorbar": {
              "outlinewidth": 0,
              "ticks": ""
             }
            },
            "type": "scattergl"
           }
          ],
          "scattermapbox": [
           {
            "marker": {
             "colorbar": {
              "outlinewidth": 0,
              "ticks": ""
             }
            },
            "type": "scattermapbox"
           }
          ],
          "scatterpolar": [
           {
            "marker": {
             "colorbar": {
              "outlinewidth": 0,
              "ticks": ""
             }
            },
            "type": "scatterpolar"
           }
          ],
          "scatterpolargl": [
           {
            "marker": {
             "colorbar": {
              "outlinewidth": 0,
              "ticks": ""
             }
            },
            "type": "scatterpolargl"
           }
          ],
          "scatterternary": [
           {
            "marker": {
             "colorbar": {
              "outlinewidth": 0,
              "ticks": ""
             }
            },
            "type": "scatterternary"
           }
          ],
          "surface": [
           {
            "colorbar": {
             "outlinewidth": 0,
             "ticks": ""
            },
            "colorscale": [
             [
              0,
              "#0d0887"
             ],
             [
              0.1111111111111111,
              "#46039f"
             ],
             [
              0.2222222222222222,
              "#7201a8"
             ],
             [
              0.3333333333333333,
              "#9c179e"
             ],
             [
              0.4444444444444444,
              "#bd3786"
             ],
             [
              0.5555555555555556,
              "#d8576b"
             ],
             [
              0.6666666666666666,
              "#ed7953"
             ],
             [
              0.7777777777777778,
              "#fb9f3a"
             ],
             [
              0.8888888888888888,
              "#fdca26"
             ],
             [
              1,
              "#f0f921"
             ]
            ],
            "type": "surface"
           }
          ],
          "table": [
           {
            "cells": {
             "fill": {
              "color": "#EBF0F8"
             },
             "line": {
              "color": "white"
             }
            },
            "header": {
             "fill": {
              "color": "#C8D4E3"
             },
             "line": {
              "color": "white"
             }
            },
            "type": "table"
           }
          ]
         },
         "layout": {
          "annotationdefaults": {
           "arrowcolor": "#2a3f5f",
           "arrowhead": 0,
           "arrowwidth": 1
          },
          "autotypenumbers": "strict",
          "coloraxis": {
           "colorbar": {
            "outlinewidth": 0,
            "ticks": ""
           }
          },
          "colorscale": {
           "diverging": [
            [
             0,
             "#8e0152"
            ],
            [
             0.1,
             "#c51b7d"
            ],
            [
             0.2,
             "#de77ae"
            ],
            [
             0.3,
             "#f1b6da"
            ],
            [
             0.4,
             "#fde0ef"
            ],
            [
             0.5,
             "#f7f7f7"
            ],
            [
             0.6,
             "#e6f5d0"
            ],
            [
             0.7,
             "#b8e186"
            ],
            [
             0.8,
             "#7fbc41"
            ],
            [
             0.9,
             "#4d9221"
            ],
            [
             1,
             "#276419"
            ]
           ],
           "sequential": [
            [
             0,
             "#0d0887"
            ],
            [
             0.1111111111111111,
             "#46039f"
            ],
            [
             0.2222222222222222,
             "#7201a8"
            ],
            [
             0.3333333333333333,
             "#9c179e"
            ],
            [
             0.4444444444444444,
             "#bd3786"
            ],
            [
             0.5555555555555556,
             "#d8576b"
            ],
            [
             0.6666666666666666,
             "#ed7953"
            ],
            [
             0.7777777777777778,
             "#fb9f3a"
            ],
            [
             0.8888888888888888,
             "#fdca26"
            ],
            [
             1,
             "#f0f921"
            ]
           ],
           "sequentialminus": [
            [
             0,
             "#0d0887"
            ],
            [
             0.1111111111111111,
             "#46039f"
            ],
            [
             0.2222222222222222,
             "#7201a8"
            ],
            [
             0.3333333333333333,
             "#9c179e"
            ],
            [
             0.4444444444444444,
             "#bd3786"
            ],
            [
             0.5555555555555556,
             "#d8576b"
            ],
            [
             0.6666666666666666,
             "#ed7953"
            ],
            [
             0.7777777777777778,
             "#fb9f3a"
            ],
            [
             0.8888888888888888,
             "#fdca26"
            ],
            [
             1,
             "#f0f921"
            ]
           ]
          },
          "colorway": [
           "#636efa",
           "#EF553B",
           "#00cc96",
           "#ab63fa",
           "#FFA15A",
           "#19d3f3",
           "#FF6692",
           "#B6E880",
           "#FF97FF",
           "#FECB52"
          ],
          "font": {
           "color": "#2a3f5f"
          },
          "geo": {
           "bgcolor": "white",
           "lakecolor": "white",
           "landcolor": "#E5ECF6",
           "showlakes": true,
           "showland": true,
           "subunitcolor": "white"
          },
          "hoverlabel": {
           "align": "left"
          },
          "hovermode": "closest",
          "mapbox": {
           "style": "light"
          },
          "paper_bgcolor": "white",
          "plot_bgcolor": "#E5ECF6",
          "polar": {
           "angularaxis": {
            "gridcolor": "white",
            "linecolor": "white",
            "ticks": ""
           },
           "bgcolor": "#E5ECF6",
           "radialaxis": {
            "gridcolor": "white",
            "linecolor": "white",
            "ticks": ""
           }
          },
          "scene": {
           "xaxis": {
            "backgroundcolor": "#E5ECF6",
            "gridcolor": "white",
            "gridwidth": 2,
            "linecolor": "white",
            "showbackground": true,
            "ticks": "",
            "zerolinecolor": "white"
           },
           "yaxis": {
            "backgroundcolor": "#E5ECF6",
            "gridcolor": "white",
            "gridwidth": 2,
            "linecolor": "white",
            "showbackground": true,
            "ticks": "",
            "zerolinecolor": "white"
           },
           "zaxis": {
            "backgroundcolor": "#E5ECF6",
            "gridcolor": "white",
            "gridwidth": 2,
            "linecolor": "white",
            "showbackground": true,
            "ticks": "",
            "zerolinecolor": "white"
           }
          },
          "shapedefaults": {
           "line": {
            "color": "#2a3f5f"
           }
          },
          "ternary": {
           "aaxis": {
            "gridcolor": "white",
            "linecolor": "white",
            "ticks": ""
           },
           "baxis": {
            "gridcolor": "white",
            "linecolor": "white",
            "ticks": ""
           },
           "bgcolor": "#E5ECF6",
           "caxis": {
            "gridcolor": "white",
            "linecolor": "white",
            "ticks": ""
           }
          },
          "title": {
           "x": 0.05
          },
          "xaxis": {
           "automargin": true,
           "gridcolor": "white",
           "linecolor": "white",
           "ticks": "",
           "title": {
            "standoff": 15
           },
           "zerolinecolor": "white",
           "zerolinewidth": 2
          },
          "yaxis": {
           "automargin": true,
           "gridcolor": "white",
           "linecolor": "white",
           "ticks": "",
           "title": {
            "standoff": 15
           },
           "zerolinecolor": "white",
           "zerolinewidth": 2
          }
         }
        }
       }
      }
     },
     "metadata": {},
     "output_type": "display_data"
    },
    {
     "data": {
      "text/plain": [
       "'mapa_interativo.html'"
      ]
     },
     "execution_count": 27,
     "metadata": {},
     "output_type": "execute_result"
    }
   ],
   "source": [
    "import osmnx as ox\n",
    "import plotly.graph_objs as go\n",
    "import plotly.offline as offline\n",
    "\n",
    "# Substitua 'your_mapbox_token' pelo seu token de acesso do Mapbox\n",
    "mapbox_token = 'your_mapbox_token'\n",
    "\n",
    "# Nome do bairro e nome da cidade (São José dos Pinhais, Brasil)\n",
    "bairro = \"Centro\"\n",
    "cidade = \"São José dos Pinhais, Brasil\"\n",
    "\n",
    "# Obter os dados geoespaciais do bairro usando o OSM\n",
    "bairro_data = ox.geocode_to_gdf(bairro + \", \" + cidade)\n",
    "\n",
    "# Calcular o centro do bairro\n",
    "centro_bairro = bairro_data.geometry.centroid\n",
    "\n",
    "# Obter o polígono que representa a delimitação do bairro\n",
    "poligono_bairro = bairro_data[\"geometry\"].iloc[0]\n",
    "\n",
    "# Layout do mapa\n",
    "layout = go.Layout(\n",
    "    mapbox_style='mapbox://styles/mapbox/streets-v11',\n",
    "    mapbox_accesstoken=mapbox_token,\n",
    "    mapbox_zoom=13,\n",
    "    mapbox_center={'lat': centro_bairro.y.iloc[0], 'lon': centro_bairro.x.iloc[0]},\n",
    "    autosize=True,\n",
    "    margin=dict(l=0, r=0, t=0, b=0)  # Define as margens (esquerda, direita, topo, base) para 0\n",
    ")\n",
    "\n",
    "# Dados dos marcadores\n",
    "data = [\n",
    "    go.Scattermapbox(\n",
    "        lat=[centro_bairro.y.iloc[0]],   # Latitudes dos marcadores (usando o centro do bairro)\n",
    "        lon=[centro_bairro.x.iloc[0]],   # Longitudes dos marcadores (usando o centro do bairro)\n",
    "        mode='markers',                    # Modo de exibição dos marcadores\n",
    "        marker=go.scattermapbox.Marker(\n",
    "            size=10,                        # Tamanho dos marcadores\n",
    "            color='rgb(255, 0, 0)'          # Cor dos marcadores (vermelho)\n",
    "        ),\n",
    "        text=[bairro],  # Texto ao passar o mouse sobre os marcadores (usando o nome do bairro)\n",
    "    ),\n",
    "    go.Scattermapbox(\n",
    "        lat=list(poligono_bairro.exterior.coords.xy[1]),   # Latitudes do polígono\n",
    "        lon=list(poligono_bairro.exterior.coords.xy[0]),   # Longitudes do polígono\n",
    "        mode='lines',   # Modo de exibição do polígono (linhas)\n",
    "        fill='toself',  # Preencher o interior do polígono\n",
    "        fillcolor='rgba(0, 128, 0, 0.2)',  # Cor de preenchimento do polígono (verde com transparência)\n",
    "        line=dict(color='rgb(0, 128, 0)', width=2)  # Estilo da linha do polígono (verde)\n",
    "    )\n",
    "]\n",
    "\n",
    "# Figura do mapa\n",
    "fig = go.Figure(data=data, layout=layout)\n",
    "\n",
    "# Exibe o mapa\n",
    "fig.show()\n",
    "offline.plot(fig, filename='mapa_interativo.html', auto_open=True)"
   ]
  },
  {
   "cell_type": "code",
   "execution_count": 43,
   "metadata": {},
   "outputs": [
    {
     "data": {
      "image/png": "[encoded data removed]",
      "text/plain": [
       "<Figure size 800x800 with 1 Axes>"
      ]
     },
     "metadata": {},
     "output_type": "display_data"
    },
    {
     "ename": "NetworkXError",
     "evalue": "G is not strongly connected",
     "output_type": "error",
     "traceback": [
      "\u001b[1;31m---------------------------------------------------------------------------\u001b[0m",
      "\u001b[1;31mNetworkXError\u001b[0m                             Traceback (most recent call last)",
      "Cell \u001b[1;32mIn[43], line 24\u001b[0m\n\u001b[0;32m     20\u001b[0m ox\u001b[39m.\u001b[39mplot_graph(G)\n\u001b[0;32m     23\u001b[0m \u001b[39m# Calcular uma rota usando o TSP que passe por todas as ruas do bairro\u001b[39;00m\n\u001b[1;32m---> 24\u001b[0m rota \u001b[39m=\u001b[39m \u001b[39mlist\u001b[39m(nx\u001b[39m.\u001b[39;49mapproximation\u001b[39m.\u001b[39;49mtraveling_salesman_problem(G))\n\u001b[0;32m     26\u001b[0m \u001b[39m# Obter as coordenadas dos pontos da rota\u001b[39;00m\n\u001b[0;32m     27\u001b[0m lats, lons \u001b[39m=\u001b[39m \u001b[39mzip\u001b[39m(\u001b[39m*\u001b[39m[(G\u001b[39m.\u001b[39mnodes[node][\u001b[39m'\u001b[39m\u001b[39my\u001b[39m\u001b[39m'\u001b[39m], G\u001b[39m.\u001b[39mnodes[node][\u001b[39m'\u001b[39m\u001b[39mx\u001b[39m\u001b[39m'\u001b[39m]) \u001b[39mfor\u001b[39;00m node \u001b[39min\u001b[39;00m rota])\n",
      "File \u001b[1;32mc:\\Users\\Dantas\\AppData\\Local\\Programs\\Python\\Python310\\lib\\site-packages\\networkx\\algorithms\\approximation\\traveling_salesman.py:310\u001b[0m, in \u001b[0;36mtraveling_salesman_problem\u001b[1;34m(G, weight, nodes, cycle, method)\u001b[0m\n\u001b[0;32m    307\u001b[0m \u001b[39mif\u001b[39;00m G\u001b[39m.\u001b[39mis_directed():\n\u001b[0;32m    308\u001b[0m     \u001b[39m# If the graph is not strongly connected, raise an exception\u001b[39;00m\n\u001b[0;32m    309\u001b[0m     \u001b[39mif\u001b[39;00m \u001b[39mnot\u001b[39;00m nx\u001b[39m.\u001b[39mis_strongly_connected(G):\n\u001b[1;32m--> 310\u001b[0m         \u001b[39mraise\u001b[39;00m nx\u001b[39m.\u001b[39mNetworkXError(\u001b[39m\"\u001b[39m\u001b[39mG is not strongly connected\u001b[39m\u001b[39m\"\u001b[39m)\n\u001b[0;32m    311\u001b[0m     GG \u001b[39m=\u001b[39m nx\u001b[39m.\u001b[39mDiGraph()\n\u001b[0;32m    312\u001b[0m \u001b[39melse\u001b[39;00m:\n",
      "\u001b[1;31mNetworkXError\u001b[0m: G is not strongly connected"
     ]
    }
   ],
   "source": [
    "import osmnx as ox\n",
    "import networkx as nx\n",
    "import plotly.graph_objs as go\n",
    "import plotly.offline as offline\n",
    "\n",
    "# Substitua 'your_mapbox_token' pelo seu token de acesso do Mapbox\n",
    "mapbox_token = 'your_mapbox_token'\n",
    "\n",
    "# Nome do bairro e nome da cidade (São José dos Pinhais, Brasil)\n",
    "bairro = \"Afonso Pena\"\n",
    "cidade = \"São José dos Pinhais, Brasil\"\n",
    "\n",
    "# Obter o grafo de ruas do bairro usando o OSM\n",
    "G = ox.graph_from_place(bairro + \", \" + cidade, network_type='drive')\n",
    "\n",
    "# Calcular o centro do bairro\n",
    "centro_bairro = ox.geocode(bairro + \", \" + cidade)\n",
    "\n",
    "# Plotar o grafo de ruas\n",
    "ox.plot_graph(G)\n",
    "\n",
    "\n",
    "# Calcular uma rota usando o TSP que passe por todas as ruas do bairro\n",
    "rota = list(nx.approximation.traveling_salesman_problem(G))\n",
    "\n",
    "# Obter as coordenadas dos pontos da rota\n",
    "lats, lons = zip(*[(G.nodes[node]['y'], G.nodes[node]['x']) for node in rota])\n",
    "\n",
    "# Layout do mapa\n",
    "layout = go.Layout(\n",
    "    mapbox_style='mapbox://styles/mapbox/streets-v11',\n",
    "    mapbox_accesstoken=mapbox_token,\n",
    "    mapbox_zoom=14,\n",
    "    mapbox_center={'lat': centro_bairro[0], 'lon': centro_bairro[1]},\n",
    "    autosize=True,\n",
    "    margin=dict(l=0, r=0, t=0, b=0)  # Define as margens (esquerda, direita, topo, base) para 0\n",
    ")\n",
    "\n",
    "# Dados dos marcadores\n",
    "data = [\n",
    "    go.Scattermapbox(\n",
    "        lat=[centro_bairro[0]],   # Latitude do marcador (usando o centro do bairro)\n",
    "        lon=[centro_bairro[1]],   # Longitude do marcador (usando o centro do bairro)\n",
    "        mode='markers',                    # Modo de exibição dos marcadores\n",
    "        marker=go.scattermapbox.Marker(\n",
    "            size=10,                        # Tamanho dos marcadores\n",
    "            color='rgb(255, 0, 0)'          # Cor dos marcadores (vermelho)\n",
    "        ),\n",
    "        text=[bairro],  # Texto ao passar o mouse sobre os marcadores (usando o nome do bairro)\n",
    "    ),\n",
    "    go.Scattermapbox(\n",
    "        lat=lats,   # Latitudes dos pontos da rota\n",
    "        lon=lons,   # Longitudes dos pontos da rota\n",
    "        mode='lines+markers',   # Modo de exibição da rota (linhas e marcadores)\n",
    "        line=dict(color='rgb(0, 0, 255)', width=2)  # Estilo da linha da rota (azul)\n",
    "    )\n",
    "]\n",
    "\n",
    "# Figura do mapa\n",
    "fig = go.Figure(data=data, layout=layout)\n",
    "\n",
    "# Exibe o mapa\n",
    "fig.show()\n",
    "offline.plot(fig, filename='rota_interativa.html', auto_open=True)\n"
   ]
  },
  {
   "cell_type": "code",
   "execution_count": 52,
   "metadata": {},
   "outputs": [
    {
     "ename": "SyntaxError",
     "evalue": "invalid syntax. Perhaps you forgot a comma? (1718879970.py, line 50)",
     "output_type": "error",
     "traceback": [
      "\u001b[1;36m  Cell \u001b[1;32mIn[52], line 50\u001b[1;36m\u001b[0m\n\u001b[1;33m    go.Scattermapbox(\u001b[0m\n\u001b[1;37m    ^\u001b[0m\n\u001b[1;31mSyntaxError\u001b[0m\u001b[1;31m:\u001b[0m invalid syntax. Perhaps you forgot a comma?\n"
     ]
    }
   ],
   "source": [
    "import osmnx as ox\n",
    "import networkx as nx\n",
    "import plotly.graph_objs as go\n",
    "import plotly.offline as offline\n",
    "\n",
    "# Substitua 'your_mapbox_token' pelo seu token de acesso do Mapbox\n",
    "mapbox_token = 'your_mapbox_token'\n",
    "\n",
    "# Nome do bairro e nome da cidade (São José dos Pinhais, Brasil)\n",
    "bairro = \"Afonso Pena\"\n",
    "cidade = \"São José dos Pinhais, Brasil\"\n",
    "\n",
    "# Obter o grafo de ruas do bairro usando o OSM\n",
    "G = ox.graph_from_place(bairro + \", \" + cidade, network_type='drive')\n",
    "\n",
    "# Calcular uma sequência de nós que minimize a distância total percorrida\n",
    "rota = list(nx.approximation.traveling_salesman_problem(G.to_undirected()))\n",
    "\n",
    "# Adicionar a primeira aresta de volta ao último nó para formar um ciclo\n",
    "rota.append(rota[0])\n",
    "\n",
    "# Obter as coordenadas dos pontos da rota\n",
    "lats, lons = zip(*[(G.nodes[node]['y'], G.nodes[node]['x']) for node in rota])\n",
    "\n",
    "# Calcular o centro do bairro\n",
    "centro_bairro = ox.geocode(bairro + \", \" + cidade)\n",
    "\n",
    "# Layout do mapa\n",
    "layout = go.Layout(\n",
    "    mapbox_style='mapbox://styles/mapbox/streets-v11',\n",
    "    mapbox_accesstoken=mapbox_token,\n",
    "    mapbox_zoom=14,\n",
    "    mapbox_center={'lat': centro_bairro[0], 'lon': centro_bairro[1]},\n",
    "    autosize=True,\n",
    "    margin=dict(l=0, r=0, t=0, b=0)  # Define as margens (esquerda, direita, topo, base) para 0\n",
    ")\n",
    "\n",
    "# Dados dos marcadores\n",
    "data = [\n",
    "    go.Scattermapbox(\n",
    "        lat=[centro_bairro[0]],   # Latitude do marcador (usando o centro do bairro)\n",
    "        lon=[centro_bairro[1]],   # Longitude do marcador (usando o centro do bairro)\n",
    "        mode='markers',                    # Modo de exibição dos marcadores\n",
    "        marker=go.scattermapbox.Marker(\n",
    "            size=10,                        # Tamanho dos marcadores\n",
    "            color='rgb(255, 0, 0)'          # Cor dos marcadores (vermelho)\n",
    "        ),\n",
    "        text=[bairro],  # Texto ao passar o mouse sobre os marcadores (usando o nome do bairro)\n",
    "    ),\n",
    "    go.Scattermapbox(\n",
    "        lat=list(poligono_bairro.exterior.coords.xy[1]),   # Latitudes do polígono\n",
    "        lon=list(poligono_bairro.exterior.coords.xy[0]),   # Longitudes do polígono\n",
    "        mode='lines',   # Modo de exibição do polígono (linhas)\n",
    "        fill='toself',  # Preencher o interior do polígono\n",
    "        fillcolor='rgba(0, 128, 0, 0.2)',  # Cor de preenchimento do polígono (verde com transparência)\n",
    "        line=dict(color='rgb(0, 128, 0)', width=2)  # Estilo da linha do polígono (verde)\n",
    "    ),\n",
    "    go.Scattermapbox(\n",
    "        lat=lats,   # Latitudes dos pontos da rota\n",
    "        lon=lons,   # Longitudes dos pontos da rota\n",
    "        mode='lines+markers',   # Modo de exibição da rota (linhas e marcadores)\n",
    "        line=dict(color='rgb(0, 0, 255)', width=2)  # Estilo da linha da rota (azul)\n",
    "    )\n",
    "]\n",
    "\n",
    "# Figura do mapa\n",
    "fig = go.Figure(data=data, layout=layout)\n",
    "\n",
    "# Exibe o mapa\n",
    "fig.show()\n",
    "offline.plot(fig, filename='rota_interativa.html', auto_open=True)\n",
    "\n"
   ]
  },
  {
   "cell_type": "code",
   "execution_count": 31,
   "metadata": {},
   "outputs": [
    {
     "data": {
      "application/vnd.plotly.v1+json": {
       "config": {
        "plotlyServerURL": "https://plot.ly"
       },
       "data": [
        {
         "lat": [
          -25.5062383
         ],
         "lon": [
          -49.1637526
         ],
         "marker": {
          "color": "rgb(255, 0, 0)",
          "size": 10
         },
         "mode": "markers",
         "text": [
          "Iná"
         ],
         "type": "scattermapbox"
        },
        {
         "lat": [
          -25.5185731,
          -25.5180138,
          -25.5174606,
          -25.5168225,
          -25.5155087,
          -25.5152442,
          -25.5149496,
          -25.5142662,
          -25.5136268,
          -25.5129798,
          -25.5123125,
          -25.5116655,
          -25.5110007,
          -25.5104998,
          -25.5110007,
          -25.5116655,
          -25.5122182,
          -25.513585,
          -25.5129281,
          -25.5126296,
          -25.5129281,
          -25.513585,
          -25.5141851,
          -25.5148959,
          -25.5155468,
          -25.514182,
          -25.5135331,
          -25.5128658,
          -25.5122182,
          -25.511553,
          -25.5117862,
          -25.511553,
          -25.5108247,
          -25.5122088,
          -25.51084,
          -25.5081837,
          -25.5087844,
          -25.5095297,
          -25.5105147,
          -25.5114998,
          -25.5124539,
          -25.5134587,
          -25.5124539,
          -25.5130282,
          -25.5140113,
          -25.5145691,
          -25.5140113,
          -25.5145729,
          -25.5149482,
          -25.5145729,
          -25.5150706,
          -25.514002,
          -25.5135983,
          -25.5126215,
          -25.5120553,
          -25.5110771,
          -25.5100902,
          -25.5106624,
          -25.5116512,
          -25.5119173,
          -25.5116512,
          -25.5106624,
          -25.5100902,
          -25.5095297,
          -25.5087844,
          -25.5081837,
          -25.5075793,
          -25.5067598,
          -25.5095274,
          -25.5067598,
          -25.5056742,
          -25.5035041,
          -25.5044132,
          -25.5038119,
          -25.5029012,
          -25.5038119,
          -25.503205,
          -25.5022913,
          -25.501153,
          -25.497148,
          -25.4968174,
          -25.496704,
          -25.4975608,
          -25.5017185,
          -25.5022084,
          -25.5022837,
          -25.5026976,
          -25.5052492,
          -25.5026976,
          -25.501257,
          -25.5026976,
          -25.5022837,
          -25.5020353,
          -25.5022837,
          -25.5022084,
          -25.5017185,
          -25.4975608,
          -25.496704,
          -25.4968174,
          -25.497148,
          -25.501153,
          -25.5020662,
          -25.5026475,
          -25.5035448,
          -25.5029558,
          -25.5032186,
          -25.5029558,
          -25.5035448,
          -25.5040994,
          -25.5034757,
          -25.5040994,
          -25.5047109,
          -25.5053128,
          -25.5058229,
          -25.5086323,
          -25.5093135,
          -25.509975,
          -25.5106606,
          -25.5113163,
          -25.5119695,
          -25.5113081,
          -25.5106971,
          -25.5113786,
          -25.5106971,
          -25.5100475,
          -25.509398,
          -25.5088607,
          -25.5095082,
          -25.510157,
          -25.5108357,
          -25.5102081,
          -25.5095276,
          -25.5088686,
          -25.5082123,
          -25.5078939,
          -25.5068504,
          -25.5056169,
          -25.5043588,
          -25.5026014,
          -25.5043588,
          -25.5056169,
          -25.5051103,
          -25.506374,
          -25.5051103,
          -25.5046833,
          -25.5055319,
          -25.5059523,
          -25.5069854,
          -25.5065601,
          -25.5075061,
          -25.5070492,
          -25.5065744,
          -25.5063641,
          -25.5065744,
          -25.5072904,
          -25.5068636,
          -25.5072904,
          -25.5080267,
          -25.5075432,
          -25.5071244,
          -25.5062629,
          -25.5071244,
          -25.5067786,
          -25.5060419,
          -25.5067786,
          -25.506456,
          -25.5057875,
          -25.506456,
          -25.5057374,
          -25.5053439,
          -25.5058074,
          -25.5053439,
          -25.5045281,
          -25.5053439,
          -25.5057374,
          -25.5061431,
          -25.5065744,
          -25.5072904,
          -25.5077437,
          -25.5081821,
          -25.5088938,
          -25.5084667,
          -25.5088938,
          -25.5093196,
          -25.5079597,
          -25.5075342,
          -25.5079597,
          -25.5083864,
          -25.5074119,
          -25.5083864,
          -25.5097464,
          -25.5102081,
          -25.5108357,
          -25.5113786,
          -25.5119447,
          -25.5119952,
          -25.5124839,
          -25.5126593,
          -25.5119695,
          -25.5113081,
          -25.5106554,
          -25.5100015,
          -25.5093153,
          -25.508654,
          -25.507443,
          -25.508654,
          -25.5079727,
          -25.5075742,
          -25.5079727,
          -25.5086323,
          -25.5093284,
          -25.5089103,
          -25.5093284,
          -25.5100046,
          -25.5106617,
          -25.5113347,
          -25.5119947,
          -25.5126437,
          -25.5133317,
          -25.5138805,
          -25.5131874,
          -25.5125356,
          -25.5118552,
          -25.5111963,
          -25.5105366,
          -25.5098578,
          -25.5093861,
          -25.5098578,
          -25.5104509,
          -25.5099667,
          -25.5104509,
          -25.5111171,
          -25.5117649,
          -25.5124047,
          -25.51308,
          -25.51372,
          -25.5144026,
          -25.5149496,
          -25.5152442,
          -25.5155087,
          -25.5148224,
          -25.5159692,
          -25.5155468,
          -25.5148959,
          -25.5154634,
          -25.5165478,
          -25.5171007,
          -25.5176619,
          -25.5165788,
          -25.5160156,
          -25.5153157,
          -25.5147616,
          -25.5134707,
          -25.5129518,
          -25.5134707,
          -25.5139821,
          -25.5153157,
          -25.5158825,
          -25.5145977,
          -25.5158825,
          -25.5164828,
          -25.5178175,
          -25.5164828,
          -25.5165788,
          -25.5176619,
          -25.5185731,
          -25.5191385,
          -25.5183732,
          -25.5191385,
          -25.5197013,
          -25.5189247,
          -25.5197013,
          -25.5191385,
          -25.5185731,
          -25.5185731
         ],
         "line": {
          "color": "rgb(0, 0, 255)",
          "width": 2
         },
         "lon": [
          -49.1638295,
          -49.1632929,
          -49.1627622,
          -49.1621501,
          -49.1608897,
          -49.160636,
          -49.1603534,
          -49.1612412,
          -49.1620716,
          -49.1629118,
          -49.1637785,
          -49.1646189,
          -49.1654822,
          -49.1661328,
          -49.1654822,
          -49.1646189,
          -49.1651491,
          -49.1664607,
          -49.1673104,
          -49.1670284,
          -49.1673104,
          -49.1664607,
          -49.1656825,
          -49.1647652,
          -49.1639232,
          -49.162607,
          -49.163447,
          -49.1643109,
          -49.1651491,
          -49.1660102,
          -49.1662333,
          -49.1660102,
          -49.1672814,
          -49.1685737,
          -49.1703126,
          -49.1736873,
          -49.174552,
          -49.1754156,
          -49.1741537,
          -49.1728917,
          -49.1716708,
          -49.170382,
          -49.1716708,
          -49.1721726,
          -49.1709105,
          -49.1701944,
          -49.1709105,
          -49.1714476,
          -49.1709642,
          -49.1714476,
          -49.1715728,
          -49.1721832,
          -49.1727033,
          -49.1739615,
          -49.1734216,
          -49.1746774,
          -49.1759421,
          -49.1764853,
          -49.1752116,
          -49.1754592,
          -49.1752116,
          -49.1764853,
          -49.1759421,
          -49.1754156,
          -49.174552,
          -49.1736873,
          -49.1734461,
          -49.1727989,
          -49.1690707,
          -49.1727989,
          -49.1717729,
          -49.1697209,
          -49.1685589,
          -49.1679919,
          -49.1691528,
          -49.1679919,
          -49.1674196,
          -49.1685905,
          -49.167518,
          -49.1637633,
          -49.1632509,
          -49.1630033,
          -49.1595121,
          -49.1503169,
          -49.1495303,
          -49.1495801,
          -49.1498795,
          -49.1511531,
          -49.1498795,
          -49.151837,
          -49.1498795,
          -49.1495801,
          -49.1500727,
          -49.1495801,
          -49.1495303,
          -49.1503169,
          -49.1595121,
          -49.1630033,
          -49.1632509,
          -49.1637633,
          -49.167518,
          -49.1663457,
          -49.166894,
          -49.1657547,
          -49.1652039,
          -49.1648678,
          -49.1652039,
          -49.1657547,
          -49.1662735,
          -49.1645379,
          -49.1662735,
          -49.1668455,
          -49.1674085,
          -49.166756,
          -49.1632184,
          -49.1623621,
          -49.1615306,
          -49.1606688,
          -49.1598446,
          -49.1590235,
          -49.158385,
          -49.1577949,
          -49.1569276,
          -49.1577949,
          -49.1586214,
          -49.1594478,
          -49.1589281,
          -49.1581014,
          -49.1572733,
          -49.1564068,
          -49.1557962,
          -49.1566658,
          -49.157485,
          -49.158301,
          -49.1586967,
          -49.1599937,
          -49.1615805,
          -49.1633332,
          -49.1616986,
          -49.1633332,
          -49.1615805,
          -49.1611,
          -49.1595262,
          -49.1611,
          -49.1606949,
          -49.1586997,
          -49.1591123,
          -49.1578238,
          -49.1574152,
          -49.1562335,
          -49.1558137,
          -49.1553769,
          -49.1556257,
          -49.1553769,
          -49.1545287,
          -49.1541168,
          -49.1545287,
          -49.1536595,
          -49.1533028,
          -49.1529088,
          -49.1520977,
          -49.1529088,
          -49.1533304,
          -49.1524815,
          -49.1533304,
          -49.1537236,
          -49.1530786,
          -49.1537236,
          -49.1546002,
          -49.1542083,
          -49.1535976,
          -49.1542083,
          -49.153376,
          -49.1542083,
          -49.1546002,
          -49.1549812,
          -49.1553769,
          -49.1545287,
          -49.1549661,
          -49.155389,
          -49.1544999,
          -49.154086,
          -49.1544999,
          -49.1549126,
          -49.1566087,
          -49.1561984,
          -49.1566087,
          -49.1570201,
          -49.1582337,
          -49.1570201,
          -49.1553263,
          -49.1557962,
          -49.1564068,
          -49.1569276,
          -49.1574707,
          -49.1575191,
          -49.1579879,
          -49.1581563,
          -49.1590235,
          -49.158385,
          -49.1592076,
          -49.1600316,
          -49.1608962,
          -49.1617296,
          -49.1605674,
          -49.1617296,
          -49.1625881,
          -49.1630903,
          -49.1625881,
          -49.1632184,
          -49.1638841,
          -49.1644149,
          -49.1638841,
          -49.1630255,
          -49.1621913,
          -49.1613507,
          -49.1604987,
          -49.1596747,
          -49.1588012,
          -49.1593277,
          -49.1601998,
          -49.1610202,
          -49.1618523,
          -49.1627058,
          -49.1635361,
          -49.1643903,
          -49.164984,
          -49.1643903,
          -49.1649571,
          -49.1655855,
          -49.1649571,
          -49.1640925,
          -49.1632518,
          -49.1623887,
          -49.1615451,
          -49.1607144,
          -49.1598286,
          -49.1603534,
          -49.160636,
          -49.1608897,
          -49.1617782,
          -49.1633769,
          -49.1639232,
          -49.1647652,
          -49.1653114,
          -49.1639272,
          -49.1644581,
          -49.1649969,
          -49.1663847,
          -49.1658428,
          -49.1667359,
          -49.1662071,
          -49.1678547,
          -49.1684921,
          -49.1678547,
          -49.1683393,
          -49.1667359,
          -49.1672768,
          -49.1689228,
          -49.1672768,
          -49.1665076,
          -49.1677873,
          -49.1665076,
          -49.1663847,
          -49.1649969,
          -49.1638295,
          -49.1643721,
          -49.1653424,
          -49.1643721,
          -49.1649121,
          -49.1659026,
          -49.1649121,
          -49.1643721,
          -49.1638295,
          -49.1638295
         ],
         "mode": "lines+markers",
         "type": "scattermapbox"
        }
       ],
       "layout": {
        "autosize": true,
        "mapbox": {
         "accesstoken": "pk.eyJ1Ijoic3RoZWNhbWlsZSIsImEiOiJjbGs5enF3eHgwMjIxM2xuYXhmMWF2M3J3In0.GsOKW7BGbB3isNIHZx8pNg",
         "center": {
          "lat": -25.5062383,
          "lon": -49.1637526
         },
         "style": "mapbox://styles/mapbox/streets-v11",
         "zoom": 14
        },
        "margin": {
         "b": 0,
         "l": 0,
         "r": 0,
         "t": 0
        },
        "template": {
         "data": {
          "bar": [
           {
            "error_x": {
             "color": "#2a3f5f"
            },
            "error_y": {
             "color": "#2a3f5f"
            },
            "marker": {
             "line": {
              "color": "#E5ECF6",
              "width": 0.5
             },
             "pattern": {
              "fillmode": "overlay",
              "size": 10,
              "solidity": 0.2
             }
            },
            "type": "bar"
           }
          ],
          "barpolar": [
           {
            "marker": {
             "line": {
              "color": "#E5ECF6",
              "width": 0.5
             },
             "pattern": {
              "fillmode": "overlay",
              "size": 10,
              "solidity": 0.2
             }
            },
            "type": "barpolar"
           }
          ],
          "carpet": [
           {
            "aaxis": {
             "endlinecolor": "#2a3f5f",
             "gridcolor": "white",
             "linecolor": "white",
             "minorgridcolor": "white",
             "startlinecolor": "#2a3f5f"
            },
            "baxis": {
             "endlinecolor": "#2a3f5f",
             "gridcolor": "white",
             "linecolor": "white",
             "minorgridcolor": "white",
             "startlinecolor": "#2a3f5f"
            },
            "type": "carpet"
           }
          ],
          "choropleth": [
           {
            "colorbar": {
             "outlinewidth": 0,
             "ticks": ""
            },
            "type": "choropleth"
           }
          ],
          "contour": [
           {
            "colorbar": {
             "outlinewidth": 0,
             "ticks": ""
            },
            "colorscale": [
             [
              0,
              "#0d0887"
             ],
             [
              0.1111111111111111,
              "#46039f"
             ],
             [
              0.2222222222222222,
              "#7201a8"
             ],
             [
              0.3333333333333333,
              "#9c179e"
             ],
             [
              0.4444444444444444,
              "#bd3786"
             ],
             [
              0.5555555555555556,
              "#d8576b"
             ],
             [
              0.6666666666666666,
              "#ed7953"
             ],
             [
              0.7777777777777778,
              "#fb9f3a"
             ],
             [
              0.8888888888888888,
              "#fdca26"
             ],
             [
              1,
              "#f0f921"
             ]
            ],
            "type": "contour"
           }
          ],
          "contourcarpet": [
           {
            "colorbar": {
             "outlinewidth": 0,
             "ticks": ""
            },
            "type": "contourcarpet"
           }
          ],
          "heatmap": [
           {
            "colorbar": {
             "outlinewidth": 0,
             "ticks": ""
            },
            "colorscale": [
             [
              0,
              "#0d0887"
             ],
             [
              0.1111111111111111,
              "#46039f"
             ],
             [
              0.2222222222222222,
              "#7201a8"
             ],
             [
              0.3333333333333333,
              "#9c179e"
             ],
             [
              0.4444444444444444,
              "#bd3786"
             ],
             [
              0.5555555555555556,
              "#d8576b"
             ],
             [
              0.6666666666666666,
              "#ed7953"
             ],
             [
              0.7777777777777778,
              "#fb9f3a"
             ],
             [
              0.8888888888888888,
              "#fdca26"
             ],
             [
              1,
              "#f0f921"
             ]
            ],
            "type": "heatmap"
           }
          ],
          "heatmapgl": [
           {
            "colorbar": {
             "outlinewidth": 0,
             "ticks": ""
            },
            "colorscale": [
             [
              0,
              "#0d0887"
             ],
             [
              0.1111111111111111,
              "#46039f"
             ],
             [
              0.2222222222222222,
              "#7201a8"
             ],
             [
              0.3333333333333333,
              "#9c179e"
             ],
             [
              0.4444444444444444,
              "#bd3786"
             ],
             [
              0.5555555555555556,
              "#d8576b"
             ],
             [
              0.6666666666666666,
              "#ed7953"
             ],
             [
              0.7777777777777778,
              "#fb9f3a"
             ],
             [
              0.8888888888888888,
              "#fdca26"
             ],
             [
              1,
              "#f0f921"
             ]
            ],
            "type": "heatmapgl"
           }
          ],
          "histogram": [
           {
            "marker": {
             "pattern": {
              "fillmode": "overlay",
              "size": 10,
              "solidity": 0.2
             }
            },
            "type": "histogram"
           }
          ],
          "histogram2d": [
           {
            "colorbar": {
             "outlinewidth": 0,
             "ticks": ""
            },
            "colorscale": [
             [
              0,
              "#0d0887"
             ],
             [
              0.1111111111111111,
              "#46039f"
             ],
             [
              0.2222222222222222,
              "#7201a8"
             ],
             [
              0.3333333333333333,
              "#9c179e"
             ],
             [
              0.4444444444444444,
              "#bd3786"
             ],
             [
              0.5555555555555556,
              "#d8576b"
             ],
             [
              0.6666666666666666,
              "#ed7953"
             ],
             [
              0.7777777777777778,
              "#fb9f3a"
             ],
             [
              0.8888888888888888,
              "#fdca26"
             ],
             [
              1,
              "#f0f921"
             ]
            ],
            "type": "histogram2d"
           }
          ],
          "histogram2dcontour": [
           {
            "colorbar": {
             "outlinewidth": 0,
             "ticks": ""
            },
            "colorscale": [
             [
              0,
              "#0d0887"
             ],
             [
              0.1111111111111111,
              "#46039f"
             ],
             [
              0.2222222222222222,
              "#7201a8"
             ],
             [
              0.3333333333333333,
              "#9c179e"
             ],
             [
              0.4444444444444444,
              "#bd3786"
             ],
             [
              0.5555555555555556,
              "#d8576b"
             ],
             [
              0.6666666666666666,
              "#ed7953"
             ],
             [
              0.7777777777777778,
              "#fb9f3a"
             ],
             [
              0.8888888888888888,
              "#fdca26"
             ],
             [
              1,
              "#f0f921"
             ]
            ],
            "type": "histogram2dcontour"
           }
          ],
          "mesh3d": [
           {
            "colorbar": {
             "outlinewidth": 0,
             "ticks": ""
            },
            "type": "mesh3d"
           }
          ],
          "parcoords": [
           {
            "line": {
             "colorbar": {
              "outlinewidth": 0,
              "ticks": ""
             }
            },
            "type": "parcoords"
           }
          ],
          "pie": [
           {
            "automargin": true,
            "type": "pie"
           }
          ],
          "scatter": [
           {
            "fillpattern": {
             "fillmode": "overlay",
             "size": 10,
             "solidity": 0.2
            },
            "type": "scatter"
           }
          ],
          "scatter3d": [
           {
            "line": {
             "colorbar": {
              "outlinewidth": 0,
              "ticks": ""
             }
            },
            "marker": {
             "colorbar": {
              "outlinewidth": 0,
              "ticks": ""
             }
            },
            "type": "scatter3d"
           }
          ],
          "scattercarpet": [
           {
            "marker": {
             "colorbar": {
              "outlinewidth": 0,
              "ticks": ""
             }
            },
            "type": "scattercarpet"
           }
          ],
          "scattergeo": [
           {
            "marker": {
             "colorbar": {
              "outlinewidth": 0,
              "ticks": ""
             }
            },
            "type": "scattergeo"
           }
          ],
          "scattergl": [
           {
            "marker": {
             "colorbar": {
              "outlinewidth": 0,
              "ticks": ""
             }
            },
            "type": "scattergl"
           }
          ],
          "scattermapbox": [
           {
            "marker": {
             "colorbar": {
              "outlinewidth": 0,
              "ticks": ""
             }
            },
            "type": "scattermapbox"
           }
          ],
          "scatterpolar": [
           {
            "marker": {
             "colorbar": {
              "outlinewidth": 0,
              "ticks": ""
             }
            },
            "type": "scatterpolar"
           }
          ],
          "scatterpolargl": [
           {
            "marker": {
             "colorbar": {
              "outlinewidth": 0,
              "ticks": ""
             }
            },
            "type": "scatterpolargl"
           }
          ],
          "scatterternary": [
           {
            "marker": {
             "colorbar": {
              "outlinewidth": 0,
              "ticks": ""
             }
            },
            "type": "scatterternary"
           }
          ],
          "surface": [
           {
            "colorbar": {
             "outlinewidth": 0,
             "ticks": ""
            },
            "colorscale": [
             [
              0,
              "#0d0887"
             ],
             [
              0.1111111111111111,
              "#46039f"
             ],
             [
              0.2222222222222222,
              "#7201a8"
             ],
             [
              0.3333333333333333,
              "#9c179e"
             ],
             [
              0.4444444444444444,
              "#bd3786"
             ],
             [
              0.5555555555555556,
              "#d8576b"
             ],
             [
              0.6666666666666666,
              "#ed7953"
             ],
             [
              0.7777777777777778,
              "#fb9f3a"
             ],
             [
              0.8888888888888888,
              "#fdca26"
             ],
             [
              1,
              "#f0f921"
             ]
            ],
            "type": "surface"
           }
          ],
          "table": [
           {
            "cells": {
             "fill": {
              "color": "#EBF0F8"
             },
             "line": {
              "color": "white"
             }
            },
            "header": {
             "fill": {
              "color": "#C8D4E3"
             },
             "line": {
              "color": "white"
             }
            },
            "type": "table"
           }
          ]
         },
         "layout": {
          "annotationdefaults": {
           "arrowcolor": "#2a3f5f",
           "arrowhead": 0,
           "arrowwidth": 1
          },
          "autotypenumbers": "strict",
          "coloraxis": {
           "colorbar": {
            "outlinewidth": 0,
            "ticks": ""
           }
          },
          "colorscale": {
           "diverging": [
            [
             0,
             "#8e0152"
            ],
            [
             0.1,
             "#c51b7d"
            ],
            [
             0.2,
             "#de77ae"
            ],
            [
             0.3,
             "#f1b6da"
            ],
            [
             0.4,
             "#fde0ef"
            ],
            [
             0.5,
             "#f7f7f7"
            ],
            [
             0.6,
             "#e6f5d0"
            ],
            [
             0.7,
             "#b8e186"
            ],
            [
             0.8,
             "#7fbc41"
            ],
            [
             0.9,
             "#4d9221"
            ],
            [
             1,
             "#276419"
            ]
           ],
           "sequential": [
            [
             0,
             "#0d0887"
            ],
            [
             0.1111111111111111,
             "#46039f"
            ],
            [
             0.2222222222222222,
             "#7201a8"
            ],
            [
             0.3333333333333333,
             "#9c179e"
            ],
            [
             0.4444444444444444,
             "#bd3786"
            ],
            [
             0.5555555555555556,
             "#d8576b"
            ],
            [
             0.6666666666666666,
             "#ed7953"
            ],
            [
             0.7777777777777778,
             "#fb9f3a"
            ],
            [
             0.8888888888888888,
             "#fdca26"
            ],
            [
             1,
             "#f0f921"
            ]
           ],
           "sequentialminus": [
            [
             0,
             "#0d0887"
            ],
            [
             0.1111111111111111,
             "#46039f"
            ],
            [
             0.2222222222222222,
             "#7201a8"
            ],
            [
             0.3333333333333333,
             "#9c179e"
            ],
            [
             0.4444444444444444,
             "#bd3786"
            ],
            [
             0.5555555555555556,
             "#d8576b"
            ],
            [
             0.6666666666666666,
             "#ed7953"
            ],
            [
             0.7777777777777778,
             "#fb9f3a"
            ],
            [
             0.8888888888888888,
             "#fdca26"
            ],
            [
             1,
             "#f0f921"
            ]
           ]
          },
          "colorway": [
           "#636efa",
           "#EF553B",
           "#00cc96",
           "#ab63fa",
           "#FFA15A",
           "#19d3f3",
           "#FF6692",
           "#B6E880",
           "#FF97FF",
           "#FECB52"
          ],
          "font": {
           "color": "#2a3f5f"
          },
          "geo": {
           "bgcolor": "white",
           "lakecolor": "white",
           "landcolor": "#E5ECF6",
           "showlakes": true,
           "showland": true,
           "subunitcolor": "white"
          },
          "hoverlabel": {
           "align": "left"
          },
          "hovermode": "closest",
          "mapbox": {
           "style": "light"
          },
          "paper_bgcolor": "white",
          "plot_bgcolor": "#E5ECF6",
          "polar": {
           "angularaxis": {
            "gridcolor": "white",
            "linecolor": "white",
            "ticks": ""
           },
           "bgcolor": "#E5ECF6",
           "radialaxis": {
            "gridcolor": "white",
            "linecolor": "white",
            "ticks": ""
           }
          },
          "scene": {
           "xaxis": {
            "backgroundcolor": "#E5ECF6",
            "gridcolor": "white",
            "gridwidth": 2,
            "linecolor": "white",
            "showbackground": true,
            "ticks": "",
            "zerolinecolor": "white"
           },
           "yaxis": {
            "backgroundcolor": "#E5ECF6",
            "gridcolor": "white",
            "gridwidth": 2,
            "linecolor": "white",
            "showbackground": true,
            "ticks": "",
            "zerolinecolor": "white"
           },
           "zaxis": {
            "backgroundcolor": "#E5ECF6",
            "gridcolor": "white",
            "gridwidth": 2,
            "linecolor": "white",
            "showbackground": true,
            "ticks": "",
            "zerolinecolor": "white"
           }
          },
          "shapedefaults": {
           "line": {
            "color": "#2a3f5f"
           }
          },
          "ternary": {
           "aaxis": {
            "gridcolor": "white",
            "linecolor": "white",
            "ticks": ""
           },
           "baxis": {
            "gridcolor": "white",
            "linecolor": "white",
            "ticks": ""
           },
           "bgcolor": "#E5ECF6",
           "caxis": {
            "gridcolor": "white",
            "linecolor": "white",
            "ticks": ""
           }
          },
          "title": {
           "x": 0.05
          },
          "xaxis": {
           "automargin": true,
           "gridcolor": "white",
           "linecolor": "white",
           "ticks": "",
           "title": {
            "standoff": 15
           },
           "zerolinecolor": "white",
           "zerolinewidth": 2
          },
          "yaxis": {
           "automargin": true,
           "gridcolor": "white",
           "linecolor": "white",
           "ticks": "",
           "title": {
            "standoff": 15
           },
           "zerolinecolor": "white",
           "zerolinewidth": 2
          }
         }
        }
       }
      }
     },
     "metadata": {},
     "output_type": "display_data"
    },
    {
     "data": {
      "text/plain": [
       "'rota_interativa.html'"
      ]
     },
     "execution_count": 31,
     "metadata": {},
     "output_type": "execute_result"
    }
   ],
   "source": [
    "import osmnx as ox\n",
    "import networkx as nx\n",
    "import plotly.graph_objs as go\n",
    "import plotly.offline as offline\n",
    "\n",
    "# Substitua 'your_mapbox_token' pelo seu token de acesso do Mapbox\n",
    "mapbox_token = 'your_mapbox_token'\n",
    "\n",
    "# Nome do bairro e nome da cidade (São José dos Pinhais, Brasil)\n",
    "bairro = \"Iná\"\n",
    "cidade = \"São José dos Pinhais, Brasil\"\n",
    "\n",
    "# Obter o grafo de ruas do bairro usando o OSM\n",
    "G = ox.graph_from_place(bairro + \", \" + cidade, network_type='drive')\n",
    "\n",
    "# Calcular uma sequência de nós que minimize a distância total percorrida\n",
    "rota = list(nx.approximation.traveling_salesman_problem(G.to_undirected(), cycle=True))\n",
    "\n",
    "# Adicionar a primeira aresta de volta ao último nó para formar um ciclo\n",
    "rota.append(rota[0])\n",
    "\n",
    "# Obter as coordenadas dos pontos da rota\n",
    "lats, lons = zip(*[(G.nodes[node]['y'], G.nodes[node]['x']) for node in rota])\n",
    "\n",
    "# Calcular o centro do bairro\n",
    "centro_bairro = ox.geocode(bairro + \", \" + cidade)\n",
    "\n",
    "# Layout do mapa\n",
    "layout = go.Layout(\n",
    "    mapbox_style='mapbox://styles/mapbox/streets-v11',\n",
    "    mapbox_accesstoken=mapbox_token,\n",
    "    mapbox_zoom=14,\n",
    "    mapbox_center={'lat': centro_bairro[0], 'lon': centro_bairro[1]},\n",
    "    autosize=True,\n",
    "    margin=dict(l=0, r=0, t=0, b=0)  # Define as margens (esquerda, direita, topo, base) para 0\n",
    ")\n",
    "\n",
    "# Dados dos marcadores\n",
    "data = [\n",
    "    go.Scattermapbox(\n",
    "        lat=[centro_bairro[0]],   # Latitude do marcador (usando o centro do bairro)\n",
    "        lon=[centro_bairro[1]],   # Longitude do marcador (usando o centro do bairro)\n",
    "        mode='markers',                    # Modo de exibição dos marcadores\n",
    "        marker=go.scattermapbox.Marker(\n",
    "            size=10,                        # Tamanho dos marcadores\n",
    "            color='rgb(255, 0, 0)'          # Cor dos marcadores (vermelho)\n",
    "        ),\n",
    "        text=[bairro],  # Texto ao passar o mouse sobre os marcadores (usando o nome do bairro)\n",
    "    ),\n",
    "    go.Scattermapbox(\n",
    "        lat=lats,   # Latitudes dos pontos da rota\n",
    "        lon=lons,   # Longitudes dos pontos da rota\n",
    "        mode='lines+markers',   # Modo de exibição da rota (linhas e marcadores)\n",
    "        line=dict(color='rgb(0, 0, 255)', width=2)  # Estilo da linha da rota (azul)\n",
    "    )\n",
    "]\n",
    "\n",
    "# Figura do mapa\n",
    "fig = go.Figure(data=data, layout=layout)\n",
    "\n",
    "# Exibe o mapa\n",
    "fig.show()\n",
    "offline.plot(fig, filename='rota_interativa.html', auto_open=True)"
   ]
  },
  {
   "cell_type": "code",
   "execution_count": 75,
   "metadata": {},
   "outputs": [
    {
     "data": {
      "image/png": "[encoded data removed]",
      "text/plain": [
       "<Figure size 800x800 with 1 Axes>"
      ]
     },
     "metadata": {},
     "output_type": "display_data"
    },
    {
     "name": "stderr",
     "output_type": "stream",
     "text": [
      "C:\\Users\\Dantas\\AppData\\Local\\Temp\\ipykernel_4692\\2264706563.py:53: UserWarning:\n",
      "\n",
      "The `folium` module has been deprecated and will be removed in a future release. You can generate and explore interactive web maps of graph nodes, edges, and/or routes automatically using GeoPandas.GeoDataFrame.explore instead, for example like: `ox.graph_to_gdfs(G, nodes=False).explore()`. See the OSMnx examples gallery for complete details and demonstrations.\n",
      "\n"
     ]
    }
   ],
   "source": [
    "import folium\n",
    "import osmnx as ox\n",
    "import networkx as nx\n",
    "import plotly.graph_objs as go\n",
    "import plotly.offline as offline\n",
    "import requests\n",
    "\n",
    "# Substitua 'your_mapbox_token' pelo seu token de acesso do Mapbox\n",
    "mapbox_token = 'your_mapbox_token'\n",
    "\n",
    "# Nome do bairro e nome da cidade (São José dos Pinhais, Brasil)\n",
    "bairro = \"Centro\"\n",
    "cidade = \"São José dos Pinhais, Brasil\"\n",
    "\n",
    "# Obter o grafo de ruas do bairro usando o OSM\n",
    "G = ox.graph_from_place(bairro + \", \" + cidade, network_type='drive')\n",
    "\n",
    "# Calcular o centro do bairro\n",
    "centro_bairro = ox.geocode(bairro + \", \" + cidade)\n",
    "\n",
    "# Plotar o grafo de ruas\n",
    "ox.plot_graph(G)\n",
    "\n",
    "# Obter as coordenadas das ruas do grafo\n",
    "nodes = list(G.nodes())\n",
    "coordinates = [(G.nodes[node]['y'], G.nodes[node]['x']) for node in nodes]\n",
    "\n",
    "# Criar grupos de coordenadas com no máximo 25 coordenadas cada\n",
    "max_coordinates_per_request = 25\n",
    "coordinate_groups = [coordinates[i:i + max_coordinates_per_request] for i in range(0, len(coordinates), max_coordinates_per_request)]\n",
    "\n",
    "# Função para chamar a API do Mapbox Directions\n",
    "def get_directions(coordinates):\n",
    "    base_url = 'https://api.mapbox.com/directions/v5/mapbox/driving/'\n",
    "    waypoints = ';'.join([f'{coord[1]},{coord[0]}' for coord in coordinates])\n",
    "    request_url = f'{base_url}{waypoints}?access_token={mapbox_token}&overview=full'\n",
    "    response = requests.get(request_url)\n",
    "    data = response.json()\n",
    "    return data\n",
    "\n",
    "# Obter as instruções de direção para cada grupo de coordenadas\n",
    "route_instructions = []\n",
    "for group in coordinate_groups:\n",
    "    directions_data = get_directions(group)\n",
    "    if 'routes' in directions_data and len(directions_data['routes']) > 0:\n",
    "        # Extrair as instruções de direção para a rota\n",
    "        instructions = [(step['maneuver']['instruction'], (step['maneuver']['location'][1], step['maneuver']['location'][0]))\n",
    "                        for leg in directions_data['routes'][0]['legs']\n",
    "                        for step in leg['steps']]\n",
    "        route_instructions.extend(instructions)\n",
    "\n",
    "# Plotar o grafo de ruas e a rota com as instruções de direção no mapa\n",
    "G_mapbox = ox.plot_graph_folium(G, popup_attribute='name', edge_width=2)\n",
    "for instruction, coord in route_instructions:\n",
    "    folium.Marker(location=[coord[0], coord[1]], popup=instruction, icon=folium.Icon(color='blue')).add_to(G_mapbox)\n",
    "\n",
    "# Salvar o mapa em um arquivo HTML\n",
    "G_mapbox.save('route_map_with_directions.html')\n"
   ]
  }
 ],
 "metadata": {
  "kernelspec": {
   "display_name": "Python 3",
   "language": "python",
   "name": "python3"
  },
  "language_info": {
   "codemirror_mode": {
    "name": "ipython",
    "version": 3
   },
   "file_extension": ".py",
   "mimetype": "text/x-python",
   "name": "python",
   "nbconvert_exporter": "python",
   "pygments_lexer": "ipython3",
   "version": "3.10.5"
  },
  "orig_nbformat": 4
 },
 "nbformat": 4,
 "nbformat_minor": 2
}
